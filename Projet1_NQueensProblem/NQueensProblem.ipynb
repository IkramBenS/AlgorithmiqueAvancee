{
 "cells": [
  {
   "cell_type": "markdown",
   "metadata": {},
   "source": [
    "#  <center><font size=\"7\">NQueens Problem</center>"
   ]
  },
  {
   "cell_type": "code",
   "execution_count": 6,
   "metadata": {},
   "outputs": [
    {
     "name": "stdout",
     "output_type": "stream",
     "text": [
      ". Q . . \n",
      ". . . Q \n",
      "Q . . . \n",
      ". . Q . \n",
      "\n",
      "\n",
      ". . Q . \n",
      "Q . . . \n",
      ". . . Q \n",
      ". Q . . \n",
      "\n",
      "\n",
      "2 solutions trouvées\n"
     ]
    }
   ],
   "source": [
    "class NReines:\n",
    "    def __init__(self, size):\n",
    "        # stockage de la taille du problème et le nombre de solutions valides\n",
    "        self.size = size\n",
    "        self.solutions = 0\n",
    "        self.resoudre()\n",
    "\n",
    "    def resoudre(self):\n",
    "        positions = [-1] * self.size\n",
    "        self.placer_reine(positions, 0)\n",
    "        print(self.solutions, \"solutions\", \"trouvées\")\n",
    "\n",
    "    def placer_reine(self, positions, target_row):\n",
    "        if target_row == self.size:\n",
    "            self.afficher(positions)\n",
    "            self.solutions += 1\n",
    "        else:\n",
    "            for column in range(self.size):\n",
    "                if self.est_libre(positions, target_row, column):\n",
    "                    positions[target_row] = column\n",
    "                    self.placer_reine(positions, target_row + 1)\n",
    "\n",
    "    def est_libre(self, positions, ocuppied_rows, column):  \n",
    "        for i in range(ocuppied_rows): \n",
    "                if positions[i] == column or \\\n",
    "                positions[i] - i == column - ocuppied_rows or \\\n",
    "                positions[i] + i == column + ocuppied_rows:\n",
    "                    return False\n",
    "        return True\n",
    "\n",
    "    def afficher(self, positions):\n",
    "        for row in range(self.size):\n",
    "            line = \"\"\n",
    "            for column in range(self.size):\n",
    "                if positions[row] == column:\n",
    "                    line += \"Q \"\n",
    "                else:\n",
    "                    line += \". \"\n",
    "            print(line)\n",
    "        print(\"\\n\")\n",
    "def main():\n",
    "    NReines(4)\n",
    "\n",
    "if __name__ == \"__main__\":\n",
    "    main()"
   ]
  },
  {
   "cell_type": "code",
   "execution_count": null,
   "metadata": {},
   "outputs": [],
   "source": []
  }
 ],
 "metadata": {
  "kernelspec": {
   "display_name": "Python 3",
   "language": "python",
   "name": "python3"
  },
  "language_info": {
   "codemirror_mode": {
    "name": "ipython",
    "version": 3
   },
   "file_extension": ".py",
   "mimetype": "text/x-python",
   "name": "python",
   "nbconvert_exporter": "python",
   "pygments_lexer": "ipython3",
   "version": "3.8.3"
  }
 },
 "nbformat": 4,
 "nbformat_minor": 4
}
