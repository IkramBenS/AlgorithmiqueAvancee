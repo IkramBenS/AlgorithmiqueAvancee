{
 "cells": [
  {
   "cell_type": "markdown",
   "metadata": {},
   "source": [
    "<img src=\"images/entete1.PNG\" />"
   ]
  },
  {
   "cell_type": "markdown",
   "metadata": {},
   "source": [
    "## Importation"
   ]
  },
  {
   "cell_type": "code",
   "execution_count": 1,
   "metadata": {},
   "outputs": [],
   "source": [
    "import time\n",
    "from random import randint\n",
    "import matplotlib.pyplot as plt\n",
    "import sys\n",
    "import numpy as np\n",
    "import matplotlib.pyplot as plt\n",
    "sys.setrecursionlimit(10005)"
   ]
  },
  {
   "cell_type": "code",
   "execution_count": 2,
   "metadata": {},
   "outputs": [],
   "source": [
    "class Compteur(object):\n",
    "    def __init__(self, nom):\n",
    "        self.nom = nom\n",
    "\n",
    "    def __enter__(self):\n",
    "        self.t_debut = time.time()\n",
    "\n",
    "    def __exit__(self, exc_ty, exc_val, exc_tb):\n",
    "        t_fin = time.time()\n",
    "        print('{}: {}'.format(self.nom, t_fin - self.t_debut))"
   ]
  },
  {
   "cell_type": "markdown",
   "metadata": {},
   "source": [
    "## Tri par sélection"
   ]
  },
  {
   "cell_type": "code",
   "execution_count": 3,
   "metadata": {},
   "outputs": [],
   "source": [
    "def tri_selection(t, n):\n",
    "    if n < 2:\n",
    "        # Moins de 2 éléments : pas besoin de trier\n",
    "        return t\n",
    "    for i in range(n-1):\n",
    "        # On suppose que le min est en premier\n",
    "        min = t[i]\n",
    "        imin = i\n",
    "        for j in range(i+1, n):\n",
    "            if t[j] < min:\n",
    "                # On met à jour le min\n",
    "                min = t[j]\n",
    "                imin = j\n",
    "        if imin != i:\n",
    "            # On pertmute pour mettre le min en premier\n",
    "            t[imin] = t[i]\n",
    "            t[i] = min\n",
    "    return t\n"
   ]
  },
  {
   "cell_type": "markdown",
   "metadata": {},
   "source": [
    "## Tri à Bulle"
   ]
  },
  {
   "cell_type": "code",
   "execution_count": 4,
   "metadata": {},
   "outputs": [],
   "source": [
    "def tri_bulle(t, n):\n",
    "    if n < 2:\n",
    "        # Moins de 2 éléments : pas besoin de trier\n",
    "        return t\n",
    "    for i in range(n-1):\n",
    "        for j in range(n-1-i):\n",
    "            if t[j] > t[j+1]:\n",
    "                # On permute\n",
    "                temp = t[j]\n",
    "                t[j] = t[j+1]\n",
    "                t[j+1] = temp\n",
    "    return t"
   ]
  },
  {
   "cell_type": "markdown",
   "metadata": {},
   "source": [
    "## Tri par insertion"
   ]
  },
  {
   "cell_type": "code",
   "execution_count": 5,
   "metadata": {},
   "outputs": [],
   "source": [
    "def tri_insertion(t, n):\n",
    "    if n < 2:\n",
    "        # Moins de 2 éléments : pas besoin de trier\n",
    "        return t\n",
    "    for i in range(2, n):\n",
    "        temp = t[i]\n",
    "        j = i - 1\n",
    "        while t[j] > t[i] and j >= 0:\n",
    "            t[j+1] = t[j]\n",
    "            j -= 1\n",
    "        t[j] = temp\n",
    "    return t"
   ]
  },
  {
   "cell_type": "markdown",
   "metadata": {},
   "source": [
    "## Tri par Fusion"
   ]
  },
  {
   "cell_type": "code",
   "execution_count": 7,
   "metadata": {},
   "outputs": [],
   "source": [
    "def tri_fusion(t, n):\n",
    "    def vidage(ta, pa, na, t, p):\n",
    "        for i in range(pa, na):\n",
    "            t[p] = ta[i]\n",
    "            p += 1\n",
    "        return t\n",
    "\n",
    "    if n < 2:\n",
    "        # Moins de 2 éléments : pas besoin de trier\n",
    "        return t\n",
    "\n",
    "    # Cas général : on découpe le tableau en 2 partie que l'on trie\n",
    "    p = n // 2\n",
    "    t1 = t[:p]\n",
    "    n1 = len(t1)\n",
    "    t1 = tri_fusion(t1, n1)\n",
    "    t2 = t[p:]\n",
    "    n2 = len(t2)\n",
    "    t2 = tri_fusion(t2, n2)\n",
    "    # Fusion des deux parties\n",
    "    p1, p2, p = 0, 0, 0 # position dans t1, t2 et t\n",
    "    while p1 < n1 and p2 < n2:\n",
    "        if t1[p1] < t2[p2]:\n",
    "            # On met t1[p1] dans t\n",
    "            t[p] = t1[p1]\n",
    "            p1 += 1\n",
    "        else:\n",
    "            # On met t2[p2] dans t\n",
    "            t[p] = t2[p2]\n",
    "            p2 += 1\n",
    "        p += 1\n",
    "    if p1 == len(t1):\n",
    "        vidage(t2, p2, len(t2), t, p)\n",
    "    else:\n",
    "        vidage(t1, p1, len(t1), t, p)\n",
    "    return t"
   ]
  },
  {
   "cell_type": "markdown",
   "metadata": {},
   "source": [
    "## Tri Rapide"
   ]
  },
  {
   "cell_type": "code",
   "execution_count": 9,
   "metadata": {},
   "outputs": [],
   "source": [
    "def tri_rapide(t, n):\n",
    "    def tri_rapide(t, i, j):\n",
    "        if i >= j:\n",
    "            # Pas besoin de trier\n",
    "            return t\n",
    "        p = i\n",
    "        # On place les éléments plus petits que le pivot (t[j-1]) au début\n",
    "        for k in range(i, j-1):\n",
    "            if t[k] <= t[j-1]:\n",
    "                t[k], t[p] = t[p], t[k]\n",
    "                p += 1\n",
    "        # On remet le pivot après les éléments plus petits\n",
    "        t[j-1], t[p] = t[p], t[j-1]\n",
    "        # On trie les deux parties\n",
    "        tri_rapide(t, i, p-1)\n",
    "        tri_rapide(t, p+1, j-1)\n",
    "        return t\n",
    "\n",
    "    if n < 2:\n",
    "        # Moins de 2 éléments : pas besoin de trier\n",
    "        return t\n",
    "\n",
    "    t = tri_rapide(t, 0, n)\n",
    "    return t"
   ]
  },
  {
   "cell_type": "markdown",
   "metadata": {},
   "source": [
    "## Génération aléatoire d'un tableau de 5000 entiers"
   ]
  },
  {
   "cell_type": "code",
   "execution_count": 22,
   "metadata": {},
   "outputs": [],
   "source": [
    " t = [randint(0, 1000) for i in range(5000)]"
   ]
  },
  {
   "cell_type": "markdown",
   "metadata": {},
   "source": [
    "### J'ai changer le nombre d'entiers de ce tableau avec un pat de 5000, jusqu'a atteindre un tableau de 90 000 entiers .  A chaque fois, j'ai noté les valeurs du temps d'exécution dans un tableau, vous le trouverez dans le fichier PDF."
   ]
  },
  {
   "cell_type": "code",
   "execution_count": 12,
   "metadata": {},
   "outputs": [
    {
     "name": "stdout",
     "output_type": "stream",
     "text": [
      "Tri par sélection: 0.001995086669921875\n"
     ]
    }
   ],
   "source": [
    " with Compteur(\"Tri par sélection\"):\n",
    "        t2 = tri_selection(t, len(t))"
   ]
  },
  {
   "cell_type": "code",
   "execution_count": 13,
   "metadata": {},
   "outputs": [
    {
     "name": "stdout",
     "output_type": "stream",
     "text": [
      "Tri par insertion: 0.0\n"
     ]
    }
   ],
   "source": [
    "with Compteur(\"Tri par insertion\"):\n",
    "        t4 = tri_insertion(t, len(t))"
   ]
  },
  {
   "cell_type": "code",
   "execution_count": 14,
   "metadata": {},
   "outputs": [
    {
     "name": "stdout",
     "output_type": "stream",
     "text": [
      "Tri fusion: 0.0009989738464355469\n"
     ]
    }
   ],
   "source": [
    "with Compteur(\"Tri fusion\"):\n",
    "        t5 = tri_fusion(t, len(t))"
   ]
  },
  {
   "cell_type": "code",
   "execution_count": 15,
   "metadata": {},
   "outputs": [
    {
     "name": "stdout",
     "output_type": "stream",
     "text": [
      "Tri bulle: 0.0019953250885009766\n"
     ]
    }
   ],
   "source": [
    " with Compteur(\"Tri bulle\"):\n",
    "        t6 = tri_bulle(t, len(t))"
   ]
  },
  {
   "cell_type": "code",
   "execution_count": 16,
   "metadata": {},
   "outputs": [
    {
     "name": "stdout",
     "output_type": "stream",
     "text": [
      "Tri rapide: 0.0029921531677246094\n"
     ]
    }
   ],
   "source": [
    "with Compteur(\"Tri rapide\"):\n",
    "        t7 = tri_rapide(t, len(t))"
   ]
  },
  {
   "cell_type": "markdown",
   "metadata": {},
   "source": [
    "### Enfin j'ai pu traçer ces graphes a l'aidu du tableau de valeurs noté précedemment.  et ceci, pour voir l'évolution du temps d'exécution en fonction du nombre des entires N de chaque algorithme de tri."
   ]
  },
  {
   "cell_type": "code",
   "execution_count": 17,
   "metadata": {},
   "outputs": [
    {
     "data": {
      "image/png": "[encoded data removed]",
      "text/plain": [
       "<Figure size 432x288 with 1 Axes>"
      ]
     },
     "metadata": {
      "needs_background": "light"
     },
     "output_type": "display_data"
    }
   ],
   "source": [
    "#plot tri sélection\n",
    "plt.figure()\n",
    "x= np.array([10000,15000, 20000, 25000, 30000, 35000, 40000, 45000, 50000, 55000, 60000, 65000, 70000, 75000, 80000,85000,90000])\n",
    "y= np.array([6.382199, 14.48654, 26.24159, 41.41061, 65.68911, 83.89686, 115.70967, 121.56293, 176.65348, 185.99470, 226.90789, 321.81685, 344.94016, 497.02503, 543.08678, 540.50561, 562.96635])\n",
    "plt.title(\"Tri sélection\")\n",
    "plt.xlabel(\"Nombre des entiers dans le tableau\")\n",
    "plt.ylabel(\"Temps CPU en seconde \")\n",
    "plt.plot(x,y,\"brown\")\n",
    "plt.show()"
   ]
  },
  {
   "cell_type": "code",
   "execution_count": 18,
   "metadata": {},
   "outputs": [
    {
     "data": {
      "image/png": "[encoded data removed]",
      "text/plain": [
       "<Figure size 432x288 with 1 Axes>"
      ]
     },
     "metadata": {
      "needs_background": "light"
     },
     "output_type": "display_data"
    }
   ],
   "source": [
    "#plot tri insertion\n",
    "plt.figure()\n",
    "x= np.array([10000,15000, 20000, 25000, 30000, 35000, 40000, 45000, 50000, 55000, 60000, 65000, 70000, 75000, 80000,85000,90000])\n",
    "y= np.array([0.003988, 0.00598, 0.01293, 0.01393, 0.02892, 0.01894, 0.02493, 0.03391, 0.02991, 0.03191, 0.03590, 0.03690, 0.04388, 0.05675, 0.06088, 0.04687, 0.05682])\n",
    "plt.title(\"Tri Insertion\")\n",
    "plt.xlabel(\"Nombre des entiers dans le tableau\")\n",
    "plt.ylabel(\"Temps CPU en seconde \")\n",
    "plt.plot(x,y,\"black\")\n",
    "plt.show()"
   ]
  },
  {
   "cell_type": "code",
   "execution_count": 19,
   "metadata": {},
   "outputs": [
    {
     "data": {
      "image/png": "[encoded data removed]",
      "text/plain": [
       "<Figure size 432x288 with 1 Axes>"
      ]
     },
     "metadata": {
      "needs_background": "light"
     },
     "output_type": "display_data"
    }
   ],
   "source": [
    "#plot tri fusion\n",
    "#plt.figure()\n",
    "x= np.array([10000,15000, 20000, 25000, 30000, 35000, 40000, 45000, 50000, 55000, 60000, 65000, 70000, 75000, 80000,85000,90000])\n",
    "y= np.array([0.086766, 0.17852, 0.18251, 0.24540, 0.34896, 0.34511, 0.39196, 0.45976, 0.48140, 0.52849, 0.52048, 0.52048, 0.70708, 0.89370, 0.97271, 0.79187, 0.82634])\n",
    "plt.title(\"Tri Fusion\")\n",
    "plt.xlabel(\"Nombre des entiers dans le tableau\")\n",
    "plt.ylabel(\"Temps CPU en seconde \")\n",
    "plt.plot(x,y,\"red\")\n",
    "plt.show()"
   ]
  },
  {
   "cell_type": "code",
   "execution_count": 20,
   "metadata": {},
   "outputs": [
    {
     "data": {
      "image/png": "[encoded data removed]",
      "text/plain": [
       "<Figure size 432x288 with 1 Axes>"
      ]
     },
     "metadata": {
      "needs_background": "light"
     },
     "output_type": "display_data"
    }
   ],
   "source": [
    "#plot tri bulle\n",
    "#plt.figure()\n",
    "x= np.array([10000,15000, 20000, 25000, 30000, 35000, 40000, 45000, 50000, 55000, 60000, 65000, 70000, 75000, 80000,85000,90000])\n",
    "y= np.array([11.423344, 24.92694, 47.91472, 71.10167, 212.2228, 262.3620, 339.0891, 417.8861, 531.6373, 631.0671, 871.5127, 1017.3513, 1235.32282, 1615.11323, 1783.43528, 1537.38083, 1706.58093])\n",
    "plt.title(\"Tri Bulle\")\n",
    "plt.xlabel(\"Nombre des entiers dans le tableau\")\n",
    "plt.ylabel(\"Temps CPU en seconde \")\n",
    "plt.plot(x,y,\"green\")\n",
    "plt.show()"
   ]
  },
  {
   "cell_type": "code",
   "execution_count": 21,
   "metadata": {},
   "outputs": [
    {
     "data": {
      "image/png": "[encoded data removed]",
      "text/plain": [
       "<Figure size 432x288 with 1 Axes>"
      ]
     },
     "metadata": {
      "needs_background": "light"
     },
     "output_type": "display_data"
    }
   ],
   "source": [
    "#plot tri rapide\n",
    "#plt.figure()\n",
    "x= np.array([10000,15000, 20000, 25000, 30000, 35000, 40000, 45000, 50000, 55000, 60000, 65000, 70000, 75000, 80000,85000,90000])\n",
    "y= np.array([0.085798, 0.14463, 0.22838, 0.28423, 0.35306, 0.44791, 0.58229, 0.56004, 0.76012, 0.71169, 0.89371, 1.043584, 1.34158, 1.62879, 1.68415, 1.68415, 1.89504])\n",
    "plt.title(\"Tri rapide\")\n",
    "plt.xlabel(\"Nombre des entiers dans le tableau\")\n",
    "plt.ylabel(\"Temps CPU en seconde \")\n",
    "plt.plot(x,y,\"magenta\")\n",
    "plt.show()"
   ]
  }
 ],
 "metadata": {
  "kernelspec": {
   "display_name": "Python 3",
   "language": "python",
   "name": "python3"
  },
  "language_info": {
   "codemirror_mode": {
    "name": "ipython",
    "version": 3
   },
   "file_extension": ".py",
   "mimetype": "text/x-python",
   "name": "python",
   "nbconvert_exporter": "python",
   "pygments_lexer": "ipython3",
   "version": "3.8.3"
  }
 },
 "nbformat": 4,
 "nbformat_minor": 4
}
